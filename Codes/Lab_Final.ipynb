{
 "cells": [
  {
   "cell_type": "markdown",
   "metadata": {},
   "source": [
    "<a name=\"1\"></a>\n",
    "# **<h1 id=\"1\" style=\"background-color:#F0EFEB;font-family:newtimeroman;font-size:150%;color:#283618;text-align:center;border-radius:15px 15px;padding:7px;border:solid 3px #B7B7A4;\">1. Excel Upload করা</h1>**"
   ]
  },
  {
   "cell_type": "code",
   "execution_count": 22,
   "metadata": {},
   "outputs": [
    {
     "name": "stdout",
     "output_type": "stream",
     "text": [
      "                Name  Day  Month  Year  Dollar  Taka  Height(CM)  Weight(KG)   \n",
      "0    Md. Arik Rayhan   26     11  2000      33  3597         168          65  \\\n",
      "1  Fathma Khatun Mim   14     10  2001      20  2180         165          78   \n",
      "2  Sadia Haq Tamanna   28     10  2002      11  1199         150          65   \n",
      "3  Samia Rahman Nova    4      8  2002      52  5668         160          70   \n",
      "4         Gourob Roy    9      1  2002      27  2943         170          80   \n",
      "\n",
      "     CT  \n",
      "0  12.0  \n",
      "1  13.0  \n",
      "2  12.0  \n",
      "3  13.0  \n",
      "4   NaN  \n"
     ]
    }
   ],
   "source": [
    "import pandas as pd\n",
    "data=pd.read_csv('Lab_Final.csv')\n",
    "print(data)"
   ]
  },
  {
   "cell_type": "markdown",
   "metadata": {},
   "source": [
    "<a name=\"1\"></a>\n",
    "# **<h1 id=\"1\" style=\"background-color:#F0EFEB;font-family:newtimeroman;font-size:150%;color:#283618;text-align:center;border-radius:15px 15px;padding:7px;border:solid 3px #B7B7A4;\">2. Shape বের করা(Row-Colounm)</h1>**"
   ]
  },
  {
   "cell_type": "code",
   "execution_count": 23,
   "metadata": {},
   "outputs": [
    {
     "name": "stdout",
     "output_type": "stream",
     "text": [
      "(5, 9)\n"
     ]
    }
   ],
   "source": [
    "#shape of the data\n",
    "print(data.shape)"
   ]
  },
  {
   "cell_type": "markdown",
   "metadata": {},
   "source": [
    "<a name=\"1\"></a>\n",
    "# **<h1 id=\"1\" style=\"background-color:#F0EFEB;font-family:newtimeroman;font-size:150%;color:#283618;text-align:center;border-radius:15px 15px;padding:7px;border:solid 3px #B7B7A4;\">3.Column অনুসারে কত গুলা Value আর Attribute আছে তার Summarize দিলে হবে</h1>**"
   ]
  },
  {
   "cell_type": "code",
   "execution_count": 24,
   "metadata": {},
   "outputs": [
    {
     "name": "stdout",
     "output_type": "stream",
     "text": [
      "             Day      Month         Year     Dollar         Taka  Height(CM)   \n",
      "count   5.000000   5.000000     5.000000   5.000000     5.000000     5.00000  \\\n",
      "mean   16.200000   8.000000  2001.400000  28.600000  3117.400000   162.60000   \n",
      "std    10.497619   4.062019     0.894427  15.436969  1682.629579     7.98749   \n",
      "min     4.000000   1.000000  2000.000000  11.000000  1199.000000   150.00000   \n",
      "25%     9.000000   8.000000  2001.000000  20.000000  2180.000000   160.00000   \n",
      "50%    14.000000  10.000000  2002.000000  27.000000  2943.000000   165.00000   \n",
      "75%    26.000000  10.000000  2002.000000  33.000000  3597.000000   168.00000   \n",
      "max    28.000000  11.000000  2002.000000  52.000000  5668.000000   170.00000   \n",
      "\n",
      "       Weight(KG)        CT  \n",
      "count    5.000000   4.00000  \n",
      "mean    71.600000  12.50000  \n",
      "std      7.092249   0.57735  \n",
      "min     65.000000  12.00000  \n",
      "25%     65.000000  12.00000  \n",
      "50%     70.000000  12.50000  \n",
      "75%     78.000000  13.00000  \n",
      "max     80.000000  13.00000  \n"
     ]
    }
   ],
   "source": [
    "print(data.describe())"
   ]
  },
  {
   "cell_type": "markdown",
   "metadata": {},
   "source": [
    "<a name=\"1\"></a>\n",
    "# **<h1 id=\"1\" style=\"background-color:#F0EFEB;font-family:newtimeroman;font-size:150%;color:#283618;text-align:center;border-radius:15px 15px;padding:7px;border:solid 3px #B7B7A4;\">4.Missing Value Handle</h1>**"
   ]
  },
  {
   "cell_type": "code",
   "execution_count": 28,
   "metadata": {},
   "outputs": [
    {
     "name": "stdout",
     "output_type": "stream",
     "text": [
      "                Name  Day  Month  Year  Dollar  Taka  Height(CM)  Weight(KG)   \n",
      "0    Md. Arik Rayhan   26     11  2000      33  3597         168          65  \\\n",
      "1  Fathma Khatun Mim   14     10  2001      20  2180         165          78   \n",
      "2  Sadia Haq Tamanna   28     10  2002      11  1199         150          65   \n",
      "3  Samia Rahman Nova    4      8  2002      52  5668         160          70   \n",
      "4         Gourob Roy    9      1  2002      27  2943         170          80   \n",
      "\n",
      "     CT  \n",
      "0  12.0  \n",
      "1  13.0  \n",
      "2  12.0  \n",
      "3  13.0  \n",
      "4  12.5  \n"
     ]
    }
   ],
   "source": [
    "#filling the missing values of CT with the mean of the column\n",
    "data['CT'].fillna(data['CT'].mean(),inplace=True) \n",
    "#average/mean of the column\n",
    "#fillNA মানে Fill মানে পূরণ করা , NA মানে Not Available অর্থাৎ যে ডেটা না থাকলে তাকে পূরণ করা।\n",
    "\n",
    "data['CT'].fillna(data['CT'].median(),inplace=True)\n",
    "print(data)"
   ]
  },
  {
   "cell_type": "markdown",
   "metadata": {},
   "source": [
    "<a name=\"1\"></a>\n",
    "# **<h1 id=\"1\" style=\"background-color:#F0EFEB;font-family:newtimeroman;font-size:150%;color:#283618;text-align:center;border-radius:15px 15px;padding:7px;border:solid 3px #B7B7A4;\">5.Single Column extraction</h1>**"
   ]
  },
  {
   "cell_type": "code",
   "execution_count": 32,
   "metadata": {},
   "outputs": [
    {
     "name": "stdout",
     "output_type": "stream",
     "text": [
      "0    26\n",
      "1    14\n",
      "2    28\n",
      "3     4\n",
      "4     9\n",
      "Name: Day, dtype: int64\n",
      "0    12.0\n",
      "1    13.0\n",
      "2    12.0\n",
      "3    13.0\n",
      "4    12.5\n",
      "Name: CT, dtype: float64\n",
      "0    2000\n",
      "1    2001\n",
      "2    2002\n",
      "3    2002\n",
      "4    2002\n",
      "Name: Year, dtype: int64\n"
     ]
    }
   ],
   "source": [
    "#Extact the Day column from data\n",
    "Day = data['Day']\n",
    "CT = data['CT']\n",
    "\n",
    "#Extract using iloc\n",
    "Year = data.iloc[:,3]\n",
    "print(Day)\n",
    "print(CT)\n",
    "print(Year)\n"
   ]
  },
  {
   "cell_type": "markdown",
   "metadata": {},
   "source": [
    "<a name=\"1\"></a>\n",
    "# **<h1 id=\"1\" style=\"background-color:#F0EFEB;font-family:newtimeroman;font-size:150%;color:#283618;text-align:center;border-radius:15px 15px;padding:7px;border:solid 3px #B7B7A4;\">6. Feature Engineering(New Feature Create)</h1>**"
   ]
  },
  {
   "cell_type": "markdown",
   "metadata": {},
   "source": [
    "## 1. দিন মাস বছর থেকে Date of Birth"
   ]
  },
  {
   "cell_type": "code",
   "execution_count": 34,
   "metadata": {},
   "outputs": [
    {
     "name": "stdout",
     "output_type": "stream",
     "text": [
      "                Name  Day  Month  Year  Dollar  Taka  Height(CM)  Weight(KG)   \n",
      "0    Md. Arik Rayhan   26     11  2000      33  3597         168          65  \\\n",
      "1  Fathma Khatun Mim   14     10  2001      20  2180         165          78   \n",
      "2  Sadia Haq Tamanna   28     10  2002      11  1199         150          65   \n",
      "3  Samia Rahman Nova    4      8  2002      52  5668         160          70   \n",
      "4         Gourob Roy    9      1  2002      27  2943         170          80   \n",
      "\n",
      "     CT         DOB  \n",
      "0  12.0  26-11-2000  \n",
      "1  13.0  14-10-2001  \n",
      "2  12.0  28-10-2002  \n",
      "3  13.0    4-8-2002  \n",
      "4  12.5    9-1-2002  \n"
     ]
    }
   ],
   "source": [
    "#Date of Birth Format DD-MM-YYYY\n",
    "#Date of Birth 26-11-2000\n",
    "\n",
    "#create a new column with the name DOB and assign values from Day, Month and Year\n",
    "data['DOB'] = data['Day'].astype(str) + '-' + data['Month'].astype(str) + '-' + data['Year'].astype(str)\n",
    "print(data)"
   ]
  },
  {
   "cell_type": "markdown",
   "metadata": {},
   "source": [
    "## 2.BMI(Height and Weight)"
   ]
  },
  {
   "cell_type": "code",
   "execution_count": 35,
   "metadata": {},
   "outputs": [
    {
     "name": "stdout",
     "output_type": "stream",
     "text": [
      "                Name  Day  Month  Year  Dollar  Taka  Height(CM)  Weight(KG)   \n",
      "0    Md. Arik Rayhan   26     11  2000      33  3597         168          65  \\\n",
      "1  Fathma Khatun Mim   14     10  2001      20  2180         165          78   \n",
      "2  Sadia Haq Tamanna   28     10  2002      11  1199         150          65   \n",
      "3  Samia Rahman Nova    4      8  2002      52  5668         160          70   \n",
      "4         Gourob Roy    9      1  2002      27  2943         170          80   \n",
      "\n",
      "     CT         DOB        BMI  \n",
      "0  12.0  26-11-2000  23.030045  \n",
      "1  13.0  14-10-2001  28.650138  \n",
      "2  12.0  28-10-2002  28.888889  \n",
      "3  13.0    4-8-2002  27.343750  \n",
      "4  12.5    9-1-2002  27.681661  \n"
     ]
    }
   ],
   "source": [
    "#BMI = Weight/Height^2\n",
    "data['BMI']= data['Weight(KG)']/(data['Height(CM)']/100)**2\n",
    "print(data)"
   ]
  },
  {
   "cell_type": "markdown",
   "metadata": {},
   "source": [
    "<a name=\"1\"></a>\n",
    "# **<h1 id=\"1\" style=\"background-color:#F0EFEB;font-family:newtimeroman;font-size:150%;color:#283618;text-align:center;border-radius:15px 15px;padding:7px;border:solid 3px #B7B7A4;\">7.Correlation(সম্পর্ক আছে কিনা দেখা)</h1>**"
   ]
  },
  {
   "cell_type": "markdown",
   "metadata": {},
   "source": [
    "## 1.বাংলাদেশি টাকা ও ডলার এর মধ্যে রিলেশন আছে কিনা দেখা"
   ]
  },
  {
   "cell_type": "code",
   "execution_count": 44,
   "metadata": {},
   "outputs": [
    {
     "name": "stdout",
     "output_type": "stream",
     "text": [
      "1.0\n"
     ]
    }
   ],
   "source": [
    "#Show correlation between Taka and Dollar column using corr()\n",
    "print(data['Taka'].corr(data['Dollar']))"
   ]
  },
  {
   "cell_type": "code",
   "execution_count": 43,
   "metadata": {},
   "outputs": [
    {
     "name": "stdout",
     "output_type": "stream",
     "text": [
      "0.43741135155413624\n",
      "-0.39514849824524606\n",
      "-0.2942822991713621\n"
     ]
    }
   ],
   "source": [
    "print(data['Weight(KG)'].corr(data['BMI']))\n",
    "\n",
    "print(data['Dollar'].corr(data['BMI']))\n",
    "\n",
    "print(data['Day'].corr(data['BMI']))"
   ]
  },
  {
   "cell_type": "markdown",
   "metadata": {},
   "source": [
    "<a name=\"1\"></a>\n",
    "# **<h1 id=\"1\" style=\"background-color:#F0EFEB;font-family:newtimeroman;font-size:150%;color:#283618;text-align:center;border-radius:15px 15px;padding:7px;border:solid 3px #B7B7A4;\">8.Data Visualization</h1>**"
   ]
  },
  {
   "cell_type": "markdown",
   "metadata": {},
   "source": [
    "## 1.Histogram"
   ]
  },
  {
   "cell_type": "code",
   "execution_count": 51,
   "metadata": {},
   "outputs": [
    {
     "data": {
      "image/png": "[encoded data removed]",
      "text/plain": [
       "<Figure size 640x480 with 9 Axes>"
      ]
     },
     "metadata": {},
     "output_type": "display_data"
    }
   ],
   "source": [
    "#show histogram of the all columns\n",
    "data.hist()\n",
    "import matplotlib.pyplot as plt\n",
    "plt.show()"
   ]
  },
  {
   "cell_type": "code",
   "execution_count": 54,
   "metadata": {},
   "outputs": [
    {
     "data": {
      "image/png": "[encoded data removed]",
      "text/plain": [
       "<Figure size 640x480 with 1 Axes>"
      ]
     },
     "metadata": {},
     "output_type": "display_data"
    }
   ],
   "source": [
    "#show histogram of the taka column with the help of matplotlib name the x-axis as Taka\n",
    "data['Taka'].hist()\n",
    "plt.xlabel('Taka')\n",
    "plt.ylabel('Frequency')\n",
    "plt.show()\n"
   ]
  },
  {
   "cell_type": "markdown",
   "metadata": {},
   "source": [
    "## 2.Block Diagram"
   ]
  },
  {
   "cell_type": "code",
   "execution_count": 61,
   "metadata": {},
   "outputs": [
    {
     "data": {
      "image/png": "[encoded data removed]",
      "text/plain": [
       "<Figure size 640x480 with 1 Axes>"
      ]
     },
     "metadata": {},
     "output_type": "display_data"
    }
   ],
   "source": [
    "#show the block diagram of the data using matplotlib\n",
    "data.plot(kind='bar')\n",
    "plt.show()\n"
   ]
  },
  {
   "cell_type": "markdown",
   "metadata": {},
   "source": [
    "## 3.Box Plot\n"
   ]
  },
  {
   "cell_type": "code",
   "execution_count": 60,
   "metadata": {},
   "outputs": [
    {
     "data": {
      "image/png": "[encoded data removed]",
      "text/plain": [
       "<Figure size 640x480 with 1 Axes>"
      ]
     },
     "metadata": {},
     "output_type": "display_data"
    }
   ],
   "source": [
    "#show block diagram of the Taka colum using sns\n",
    "import seaborn as sns\n",
    "sns.boxplot(data['Taka'])\n",
    "plt.xlabel('Taka')\n",
    "plt.ylabel('Frequency')\n",
    "plt.show()"
   ]
  },
  {
   "cell_type": "markdown",
   "metadata": {},
   "source": [
    "<a name=\"1\"></a>\n",
    "# **<h1 id=\"1\" style=\"background-color:#F0EFEB;font-family:newtimeroman;font-size:150%;color:#283618;text-align:center;border-radius:15px 15px;padding:7px;border:solid 3px #B7B7A4;\">9.Training-testing এ ভাগ করা</h1>**"
   ]
  }
 ],
 "metadata": {
  "kernelspec": {
   "display_name": "Python 3",
   "language": "python",
   "name": "python3"
  },
  "language_info": {
   "codemirror_mode": {
    "name": "ipython",
    "version": 3
   },
   "file_extension": ".py",
   "mimetype": "text/x-python",
   "name": "python",
   "nbconvert_exporter": "python",
   "pygments_lexer": "ipython3",
   "version": "3.11.1"
  }
 },
 "nbformat": 4,
 "nbformat_minor": 2
}
