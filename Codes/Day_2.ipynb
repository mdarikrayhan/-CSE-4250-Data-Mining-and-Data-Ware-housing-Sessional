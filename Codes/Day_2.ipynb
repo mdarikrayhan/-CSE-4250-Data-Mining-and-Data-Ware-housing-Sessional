{
 "cells": [
  {
   "cell_type": "markdown",
   "metadata": {},
   "source": [
    "<h4>Numpy Array</h4>\n"
   ]
  },
  {
   "cell_type": "code",
   "execution_count": 2,
   "metadata": {},
   "outputs": [
    {
     "name": "stdout",
     "output_type": "stream",
     "text": [
      "1-D array:\n",
      "[1 2 3 4 5]\n",
      "2-D array:\n",
      "[[1 2 3]\n",
      " [4 5 6]\n",
      " [7 8 9]]\n"
     ]
    }
   ],
   "source": [
    "import numpy as np #numpy means numerical python\n",
    "\n",
    "#creating a 1-D array\n",
    "arr1d = np.array([1,2,3,4,5])\n",
    "print(\"1-D array:\")\n",
    "print(arr1d)\n",
    "\n",
    "#creating a 2-D array\n",
    "arr2d = np.array([[1,2,3],[4,5,6],[7,8,9]])\n",
    "print(\"2-D array:\")\n",
    "print(arr2d)"
   ]
  },
  {
   "cell_type": "markdown",
   "metadata": {},
   "source": [
    "<h4>Modified data type</h4>"
   ]
  },
  {
   "cell_type": "code",
   "execution_count": 30,
   "metadata": {},
   "outputs": [
    {
     "name": "stdout",
     "output_type": "stream",
     "text": [
      "[1 2 3]\n",
      "[[1. 2. 3.]\n",
      " [4. 5. 6.]]\n"
     ]
    }
   ],
   "source": [
    "a=np.array([1,2,3])\n",
    "print(a)\n",
    "b = np.array([(1,2,3),(4,5,6)],dtype=float)\n",
    "print(b)"
   ]
  },
  {
   "cell_type": "markdown",
   "metadata": {},
   "source": [
    "<h4>Array Operation</h4>"
   ]
  },
  {
   "cell_type": "code",
   "execution_count": 19,
   "metadata": {},
   "outputs": [
    {
     "data": {
      "text/plain": [
       "array([[0.82829401, 0.22667009],\n",
       "       [0.14944604, 0.64960129]])"
      ]
     },
     "execution_count": 19,
     "metadata": {},
     "output_type": "execute_result"
    }
   ],
   "source": [
    "np.ones((4,3,4),dtype=int)\n",
    "np.arange(10,25,5)\n",
    "np.linspace(0,2,9)\n",
    "np.full((2,2),7)\n",
    "np.eye(2)\n",
    "np.random.random((2,2))"
   ]
  },
  {
   "cell_type": "markdown",
   "metadata": {},
   "source": [
    "<h4>Array Slicing</h4>"
   ]
  },
  {
   "cell_type": "code",
   "execution_count": 22,
   "metadata": {},
   "outputs": [
    {
     "name": "stdout",
     "output_type": "stream",
     "text": [
      "Array Operations:\n",
      "Sum of array1d: 15\n",
      "Mean of array1d: 3.0\n",
      "Max of array1d: 5\n",
      "Min of array1d: 1\n"
     ]
    }
   ],
   "source": [
    "arr_sum = np.sum(arr1d)\n",
    "arr_mean = np.mean(arr1d)\n",
    "arr_max = np.max(arr1d)\n",
    "arr_min = np.min(arr1d)\n",
    "\n",
    "print(\"Array Operations:\")\n",
    "print(\"Sum of array1d:\",arr_sum)\n",
    "print(\"Mean of array1d:\",arr_mean)\n",
    "print(\"Max of array1d:\",arr_max)\n",
    "print(\"Min of array1d:\",arr_min)"
   ]
  },
  {
   "cell_type": "markdown",
   "metadata": {},
   "source": [
    "<h4>Subtraction</h4>"
   ]
  },
  {
   "cell_type": "code",
   "execution_count": 36,
   "metadata": {},
   "outputs": [
    {
     "name": "stdout",
     "output_type": "stream",
     "text": [
      "[[ 0 -1 -2]\n",
      " [-3 -4 -5]]\n",
      "[[ 0  0  0]\n",
      " [-3 -3 -3]]\n",
      "\n",
      "\n",
      "[[ 0  0  0]\n",
      " [-3 -3 -3]]\n",
      "[[2 4 6]\n",
      " [5 7 9]]\n",
      "[[ 1  4  9]\n",
      " [ 4 10 18]]\n",
      "[[1.   1.   1.  ]\n",
      " [0.25 0.4  0.5 ]]\n"
     ]
    }
   ],
   "source": [
    "c = np.ones([1,3],dtype=int)\n",
    "\n",
    "b = b.astype(int)#convert b to int\n",
    "\n",
    "g = c-b\n",
    "print(g)\n",
    "\n",
    "ab= a-b\n",
    "print(ab)\n",
    "print(\"\\n\")\n",
    "print(np.subtract(a,b))\n",
    "print(np.add(a,b))\n",
    "print(np.multiply(a,b))\n",
    "print(np.divide(a,b))"
   ]
  },
  {
   "cell_type": "markdown",
   "metadata": {},
   "source": [
    "<h4>Array Slicing</h4>"
   ]
  },
  {
   "cell_type": "code",
   "execution_count": 40,
   "metadata": {},
   "outputs": [
    {
     "name": "stdout",
     "output_type": "stream",
     "text": [
      "Indexing and Slicing:\n",
      "1-D array:\n",
      "[3 2 3 4 5]\n",
      "Array at index 0: 2\n",
      "Array at index 2: 3\n",
      "Slice from 1st to 4th index: [2 3 4]\n"
     ]
    }
   ],
   "source": [
    "print(\"Indexing and Slicing:\")\n",
    "print(\"1-D array:\")\n",
    "print(arr1d)\n",
    "\n",
    "print(\"Array at index 0:\",arr1d[1])\n",
    "print(\"Array at index 2:\",arr1d[2])\n",
    "print(\"Slice from 1st to 4th index:\",arr1d[1:4])"
   ]
  },
  {
   "cell_type": "markdown",
   "metadata": {},
   "source": [
    "<h4>Exercises</h4>"
   ]
  },
  {
   "cell_type": "code",
   "execution_count": 54,
   "metadata": {},
   "outputs": [
    {
     "name": "stdout",
     "output_type": "stream",
     "text": [
      "3x3 array:\n",
      "[[2 3 7]\n",
      " [6 8 5]\n",
      " [2 1 4]]\n",
      "Sum of all elements: 38\n"
     ]
    }
   ],
   "source": [
    "arr = np.random.randint(1,10,(3,3))\n",
    "print(\"3x3 array:\")\n",
    "print(arr)\n",
    "\n",
    "print(\"Sum of all elements:\",np.sum(arr))"
   ]
  },
  {
   "cell_type": "code",
   "execution_count": 43,
   "metadata": {},
   "outputs": [
    {
     "name": "stdout",
     "output_type": "stream",
     "text": [
      "Array 1: [12 52 33]\n",
      "Array 2: [43 52 66]\n",
      "Array 3: [ 516 2704 2178]\n"
     ]
    }
   ],
   "source": [
    "arr1 = np.array([12,52,33])\n",
    "arr2 = np.array([43,52,66])\n",
    "\n",
    "arr3 = arr1*arr2\n",
    "print(\"Array 1:\",arr1)\n",
    "print(\"Array 2:\",arr2)\n",
    "print(\"Array 3:\",arr3)"
   ]
  },
  {
   "cell_type": "markdown",
   "metadata": {},
   "source": [
    "<h3>Pandas</h3>"
   ]
  },
  {
   "cell_type": "code",
   "execution_count": 57,
   "metadata": {},
   "outputs": [
    {
     "name": "stdout",
     "output_type": "stream",
     "text": [
      "DataFrame\n",
      "      Name  Age  Salary\n",
      "0    Alice   25   50000\n",
      "1      Bob   30   60000\n",
      "2  Charlie   22   45000\n",
      "3    David   28   70000\n",
      "4      Eva   24   55000\n"
     ]
    }
   ],
   "source": [
    "import pandas as pd\n",
    "\n",
    "#creating a dataframe from a dictionary\n",
    "data = {'Name':['Alice','Bob','Charlie','David','Eva'],\n",
    "        'Age':[25,30,22,28,24],\n",
    "        'Salary':[50000,60000,45000,70000,55000]\n",
    "        }\n",
    "\n",
    "df = pd.DataFrame(data)\n",
    "print(\"DataFrame\")\n",
    "print(df)"
   ]
  },
  {
   "cell_type": "markdown",
   "metadata": {},
   "source": [
    "<h4>Selecting data from datafram</h4>"
   ]
  },
  {
   "cell_type": "code",
   "execution_count": 64,
   "metadata": {},
   "outputs": [
    {
     "name": "stdout",
     "output_type": "stream",
     "text": [
      "Age 30 only:\n",
      "  Name  Age  Salary\n",
      "1  Bob   30   60000\n",
      "\n",
      "Df sliced:\n",
      "   Name  Age  Salary\n",
      "1  Bob   30   60000\n",
      "    Name  Age  Salary\n",
      "0  Alice   25   50000\n"
     ]
    }
   ],
   "source": [
    "print(\"Age 30 only:\")\n",
    "print(df[df['Age']==30])\n",
    "print(\"\\nDf sliced:\\n\",df[1:2])\n",
    "\n",
    "print(df[df['Salary']==50000])"
   ]
  },
  {
   "cell_type": "markdown",
   "metadata": {},
   "source": [
    "<h4>Selecting data from position (iloc)</h4>"
   ]
  },
  {
   "cell_type": "code",
   "execution_count": 72,
   "metadata": {},
   "outputs": [
    {
     "name": "stdout",
     "output_type": "stream",
     "text": [
      "\n",
      "Selecting by position:(iloc)\n",
      "First row:\n",
      "\n",
      "Name      Alice\n",
      "Age          25\n",
      "Salary    50000\n",
      "Name: 0, dtype: object\n",
      "\n",
      "Value in 2nd row and 'Age' column: 30\n"
     ]
    }
   ],
   "source": [
    "#selecting the first row\n",
    "row_0 = df.iloc[0]\n",
    "print(\"\\nSelecting by position:(iloc)\")\n",
    "print(\"First row:\\n\")\n",
    "print(row_0)\n",
    "\n",
    "#selecting the value in the second row and 'Age' column\n",
    "value_2nd_row_age_col = df.iloc[1,df.columns.get_loc('Age')]\n",
    "print(\"\\nValue in 2nd row and 'Age' column:\",value_2nd_row_age_col)"
   ]
  },
  {
   "cell_type": "markdown",
   "metadata": {},
   "source": [
    "#### Selecting data from label (loc)"
   ]
  },
  {
   "cell_type": "code",
   "execution_count": 75,
   "metadata": {},
   "outputs": [
    {
     "name": "stdout",
     "output_type": "stream",
     "text": [
      "\n",
      "Selceting by labels:(loc)\n",
      "Selected rows:\n",
      "\n",
      "    Name  Age  Salary\n",
      "1    Bob   30   60000\n",
      "3  David   28   70000\n",
      "\n",
      "Cell at row 2 and column 'Salary': 45000\n"
     ]
    }
   ],
   "source": [
    "selected_rows = df.iloc[[1,3]]\n",
    "print(\"\\nSelceting by labels:(loc)\")\n",
    "print(\"Selected rows:\\n\")\n",
    "print(selected_rows)\n",
    "\n",
    "#Selecting y a specific cell by label\n",
    "cell_Label = df.loc[2,'Salary']\n",
    "print(\"\\nCell at row 2 and column 'Salary':\",cell_Label)"
   ]
  },
  {
   "cell_type": "markdown",
   "metadata": {},
   "source": [
    "#### Bollean indexing"
   ]
  },
  {
   "cell_type": "code",
   "execution_count": 87,
   "metadata": {},
   "outputs": [
    {
     "name": "stdout",
     "output_type": "stream",
     "text": [
      "\n",
      "Boolean indexing:\n",
      "Employees with salary > 55000:\n",
      "\n",
      "    Name  Age  Salary  Experience\n",
      "1    Bob   30   60000           5\n",
      "3  David   28   70000           7\n",
      "5   Arik   33   80000           8\n"
     ]
    }
   ],
   "source": [
    "#boolean indexing\n",
    "print(\"\\nBoolean indexing:\")\n",
    "high_salary = df[df['Salary']>55000]\n",
    "\n",
    "print(\"Employees with salary > 55000:\\n\")\n",
    "print(high_salary)"
   ]
  },
  {
   "cell_type": "markdown",
   "metadata": {},
   "source": [
    "#### setting a new value to a dataframe"
   ]
  },
  {
   "cell_type": "code",
   "execution_count": 94,
   "metadata": {},
   "outputs": [
    {
     "name": "stdout",
     "output_type": "stream",
     "text": [
      "\n",
      "Setting Values in DataFrame:\n",
      "\n",
      "New value in DataFrame:\n",
      "      Name  Age  Salary  Experience\n",
      "0    Alice   26   50000           2\n",
      "1      Bob   30   60000           5\n",
      "2  Charlie   22   45000           1\n",
      "3    David   28   70000           7\n",
      "4      Eva   24   55000           3\n",
      "5     Arik   33   80000           8\n"
     ]
    }
   ],
   "source": [
    "#Setting a new value in the DataFrame\n",
    "df.loc[0,'Age']=26\n",
    "print(\"\\nSetting Values in DataFrame:\")\n",
    "print(\"\\nNew value in DataFrame:\")\n",
    "print(df)\n",
    "\n",
    "# #Setting a new value with default values\n",
    "# df['Experience'] = [2,5,1,7,3] #add a new column\n",
    "# print(\"\\nNew column 'Experience':\")\n",
    "# print(df)\n",
    "\n",
    "# #adding new rows\n",
    "# df.loc[5] = ['Arik',33,80000,8]\n",
    "# print(\"\\nNew row:\")\n",
    "# print(df)"
   ]
  },
  {
   "cell_type": "markdown",
   "metadata": {},
   "source": [
    "#### Exercises"
   ]
  },
  {
   "cell_type": "code",
   "execution_count": 101,
   "metadata": {},
   "outputs": [
    {
     "name": "stdout",
     "output_type": "stream",
     "text": [
      "\n",
      "Last two rows:\n",
      "   Name  Age  Salary  Experience\n",
      "4   Eva   24   55000           3\n",
      "5  Arik   33   80000           8\n",
      "\n",
      "New DataFrame:\n",
      "    Name  Age  Salary  Experience\n",
      "3  David   28   70000           7\n",
      "4    Eva   24   55000           3\n",
      "\n",
      "New DataFrame with edited salary:\n",
      "      Name  Age  Salary  Experience\n",
      "0    Alice   26   50000           2\n",
      "1      Bob   30   60000           5\n",
      "2  Charlie   22   48000           1\n",
      "3    David   28   70000           7\n",
      "4      Eva   24   55000           3\n",
      "5     Arik   33   80000           8\n"
     ]
    }
   ],
   "source": [
    "#select the last two rows of the dataframe\n",
    "size = df.shape[0]\n",
    "last_two_rows = df.iloc[size-2:]\n",
    "print(\"\\nLast two rows:\")\n",
    "print(last_two_rows)\n",
    "\n",
    "#create new df with employees under 30 and salary > 50000\n",
    "new_df = df[(df['Age']<30) & (df['Salary']>50000)]\n",
    "print(\"\\nNew DataFrame:\")\n",
    "print(new_df)\n",
    "\n",
    "#set the salaray of 'Charlie' to 48000 in df\n",
    "df.loc[df['Name']=='Charlie','Salary']=48000\n",
    "print(\"\\nNew DataFrame with edited salary:\")\n",
    "print(df)"
   ]
  },
  {
   "cell_type": "markdown",
   "metadata": {},
   "source": [
    "#### Discussion\n",
    "In this lab we learned about many built in libraries of python and how to use them. We learned about numpy and pandas and how to use them to manipulate data. We also learned about the different types of data structures in python and how to use them. We learned about lists, tuples, dictionaries, and sets. We also learned about the different types of data types in python and how to use them. We learned about strings, integers, floats, and booleans. We also learned about the different types of operators in python and how to use them. We learned about arithmetic operators, comparison operators, logical operators, and assignment operators. We also learned about the different types of control flow statements in python and how to use them. We learned about if statements, for loops, while loops, and try except statements. We also learned about the different types of functions in python and how to use them. We learned about built in functions, user defined functions, and lambda functions. We also learned about the different types of errors in python and how to use them. We learned about syntax errors, runtime errors, and logical errors. We also learned about the different types of modules in python and how to use them. We learned about built in modules, user defined modules, and third party modules. We also learned about the different types of classes in python and how to use them. We learned about class attributes, class methods, and class constructors. We also learned about the different types of exceptions in python and how to use them. We learned about built in exceptions, user defined exceptions, and exception handling. We also learned about the different types of file operations in python and how to use them. We learned about reading files, writing files, and appending files. We also learned about the different types of data structures in numpy and how to use them. We learned about numpy arrays, modified data types, array operations, array slicing, and subtraction. We also learned about the different types of data structures in pandas and how to use them. We learned about selecting data from a dataframe, selecting data from position, selecting data from label, boolean indexing, and setting a new value to a dataframe."
   ]
  }
 ],
 "metadata": {
  "kernelspec": {
   "display_name": "Python 3",
   "language": "python",
   "name": "python3"
  },
  "language_info": {
   "codemirror_mode": {
    "name": "ipython",
    "version": 3
   },
   "file_extension": ".py",
   "mimetype": "text/x-python",
   "name": "python",
   "nbconvert_exporter": "python",
   "pygments_lexer": "ipython3",
   "version": "3.11.1"
  }
 },
 "nbformat": 4,
 "nbformat_minor": 2
}
